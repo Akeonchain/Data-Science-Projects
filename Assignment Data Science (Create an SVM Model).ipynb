{
 "cells": [
  {
   "cell_type": "code",
   "execution_count": 11,
   "id": "96f0ba5a-3a0a-434d-a3f6-041323785114",
   "metadata": {},
   "outputs": [],
   "source": [
    "import pandas as pd\n",
    "# Load your dataset (replace 'your_file.csv' with your actual file path)\n",
    "df = pd.read_csv(r'C:\\Users\\user\\WineQT.csv')\n"
   ]
  },
  {
   "cell_type": "code",
   "execution_count": 6,
   "id": "a411a317-27d7-45be-80ef-609ec37cd942",
   "metadata": {},
   "outputs": [
    {
     "name": "stdout",
     "output_type": "stream",
     "text": [
      "Index(['fixed acidity', 'volatile acidity', 'citric acid', 'residual sugar',\n",
      "       'chlorides', 'free sulfur dioxide', 'total sulfur dioxide', 'density',\n",
      "       'pH', 'sulphates', 'alcohol', 'quality', 'Id'],\n",
      "      dtype='object')\n"
     ]
    }
   ],
   "source": [
    "print(df.columns)"
   ]
  },
  {
   "cell_type": "code",
   "execution_count": 7,
   "id": "b8417985-5e01-474a-9076-7f730402fec6",
   "metadata": {},
   "outputs": [],
   "source": [
    "# Drop the 'Id' column\n",
    "df = df.drop('Id', axis=1)\n",
    "\n",
    "# Convert 'quality' into binary: 1 if quality >= 7 (good), else 0 (bad)\n",
    "df['quality_binary'] = (df['quality'] >= 7).astype(int)\n",
    "\n",
    "# Define features and target\n",
    "X = df.drop(['quality', 'quality_binary'], axis=1).values  # Drop original and binary target columns from features\n",
    "y = df['quality_binary'].values  # Use binary target for classification"
   ]
  },
  {
   "cell_type": "code",
   "execution_count": 8,
   "id": "449efd61-0c00-4f8f-8078-db5d9f60a582",
   "metadata": {},
   "outputs": [
    {
     "name": "stdout",
     "output_type": "stream",
     "text": [
      "Index(['fixed acidity', 'volatile acidity', 'citric acid', 'residual sugar',\n",
      "       'chlorides', 'free sulfur dioxide', 'total sulfur dioxide', 'density',\n",
      "       'pH', 'sulphates', 'alcohol', 'quality', 'quality_binary'],\n",
      "      dtype='object')\n"
     ]
    }
   ],
   "source": [
    "print(df.columns)"
   ]
  },
  {
   "cell_type": "code",
   "execution_count": 13,
   "id": "c6e7820a-639d-4b44-97dc-42f85c97aaee",
   "metadata": {},
   "outputs": [
    {
     "name": "stdout",
     "output_type": "stream",
     "text": [
      "Training class distribution: {0: 783, 1: 131}\n",
      "Confusion Matrix:\n",
      "[[155  46]\n",
      " [  4  24]]\n",
      "\n",
      "Classification Report:\n",
      "              precision    recall  f1-score   support\n",
      "\n",
      "           0       0.97      0.77      0.86       201\n",
      "           1       0.34      0.86      0.49        28\n",
      "\n",
      "    accuracy                           0.78       229\n",
      "   macro avg       0.66      0.81      0.68       229\n",
      "weighted avg       0.90      0.78      0.82       229\n",
      "\n",
      "F1 Score: 0.4897959183673469\n",
      "ROC AUC Score: 0.8141435678749112\n"
     ]
    }
   ],
   "source": [
    "import pandas as pd\n",
    "import numpy as np\n",
    "from sklearn.model_selection import train_test_split\n",
    "from sklearn.preprocessing import StandardScaler\n",
    "from sklearn.svm import SVC\n",
    "from sklearn.metrics import classification_report, confusion_matrix, f1_score, roc_auc_score\n",
    "\n",
    "\n",
    "# 5. Split data into train and test sets (80-20 split)\n",
    "X_train, X_test, y_train, y_test = train_test_split(X, y, test_size=0.2, random_state=42)\n",
    "# Check class distribution in training set\n",
    "print(\"Training class distribution:\", dict(zip(*np.unique(y_train, return_counts=True))))\n",
    "\n",
    "# 6. Standardize features\n",
    "scaler = StandardScaler()\n",
    "X_train = scaler.fit_transform(X_train)\n",
    "X_test = scaler.transform(X_test)\n",
    "\n",
    "# 7. Create SVM model with class weight balancing\n",
    "model = SVC(kernel='linear', class_weight='balanced')\n",
    "model.fit(X_train, y_train)\n",
    "\n",
    "# 8. Predict on test set\n",
    "y_pred = model.predict(X_test)\n",
    "\n",
    "# 9. Evaluate\n",
    "print(\"Confusion Matrix:\")\n",
    "print(confusion_matrix(y_test, y_pred))\n",
    "\n",
    "print(\"\\nClassification Report:\")\n",
    "print(classification_report(y_test, y_pred, zero_division=1))\n",
    "\n",
    "print(\"F1 Score:\", f1_score(y_test, y_pred))\n",
    "try:\n",
    "    print(\"ROC AUC Score:\", roc_auc_score(y_test, y_pred))\n",
    "except ValueError:\n",
    "    print(\"ROC AUC Score could not be computed (probably due to single class prediction).\")"
   ]
  },
  {
   "cell_type": "code",
   "execution_count": null,
   "id": "93a11b86-9ab0-430e-a196-9d60b15ce932",
   "metadata": {},
   "outputs": [],
   "source": []
  }
 ],
 "metadata": {
  "kernelspec": {
   "display_name": "Python 3 (ipykernel)",
   "language": "python",
   "name": "python3"
  },
  "language_info": {
   "codemirror_mode": {
    "name": "ipython",
    "version": 3
   },
   "file_extension": ".py",
   "mimetype": "text/x-python",
   "name": "python",
   "nbconvert_exporter": "python",
   "pygments_lexer": "ipython3",
   "version": "3.12.7"
  }
 },
 "nbformat": 4,
 "nbformat_minor": 5
}
